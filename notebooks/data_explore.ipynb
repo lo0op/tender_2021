{
 "cells": [
  {
   "cell_type": "code",
   "execution_count": 42,
   "id": "008b2cc1-c258-4248-b700-25dce8c83e26",
   "metadata": {
    "execution": {
     "iopub.execute_input": "2021-06-12T03:10:43.554887Z",
     "iopub.status.busy": "2021-06-12T03:10:43.554467Z",
     "iopub.status.idle": "2021-06-12T03:10:43.561529Z",
     "shell.execute_reply": "2021-06-12T03:10:43.560148Z",
     "shell.execute_reply.started": "2021-06-12T03:10:43.554830Z"
    },
    "tags": []
   },
   "outputs": [],
   "source": [
    "import pandas as pd\n",
    "import sweetviz as sv\n",
    "import numpy as np\n",
    "import os\n",
    "\n",
    "pd.set_option('display.max_rows', 100)\n",
    "pd.set_option('display.max_columns', 50)"
   ]
  },
  {
   "cell_type": "code",
   "execution_count": 2,
   "id": "e808d83c-7dbe-4711-9942-a86854a62093",
   "metadata": {
    "execution": {
     "iopub.execute_input": "2021-06-11T15:49:36.358979Z",
     "iopub.status.busy": "2021-06-11T15:49:36.358707Z",
     "iopub.status.idle": "2021-06-11T15:49:36.363154Z",
     "shell.execute_reply": "2021-06-11T15:49:36.362168Z",
     "shell.execute_reply.started": "2021-06-11T15:49:36.358948Z"
    },
    "tags": []
   },
   "outputs": [],
   "source": [
    "data_path = os.path.join('..', 'data', 'SkuChangeRequests.csv')"
   ]
  },
  {
   "cell_type": "code",
   "execution_count": 3,
   "id": "6a247a17-0748-4514-bb89-7745ffaf4fbb",
   "metadata": {
    "execution": {
     "iopub.execute_input": "2021-06-11T15:49:38.792526Z",
     "iopub.status.busy": "2021-06-11T15:49:38.792171Z",
     "iopub.status.idle": "2021-06-11T15:49:38.800181Z",
     "shell.execute_reply": "2021-06-11T15:49:38.799157Z",
     "shell.execute_reply.started": "2021-06-11T15:49:38.792491Z"
    },
    "tags": []
   },
   "outputs": [],
   "source": [
    "columns_ru = ['Номер заявки', 'Форма заявки', 'Наименование', 'Единица измерения', 'Изображение', 'Классификация ГОСТ/ТУ', 'Описание', 'Статус', 'Причина отказа', 'Комментарий', 'Ид оферты', 'Наименование оферты', 'Артикул оферты', 'Регион поставки', 'Срок поставки в днях От', 'Срок поставки в днях До', 'Доступное количество От', 'Доступное количество До', 'Исходные характеристики', 'Категория оферты', 'Категория справочника', 'Вид продукции', 'Количество эталонных утвержденных характеристик в категории', 'Количество использованных поставщиком эталонных утвержденных характеристик']\n",
    "columns_en = ['application_num', 'application_form', 'name', 'measurement_unit', 'image', 'gost_calss', 'description', 'status', 'reason', 'comment' , 'offer_id', 'offer_name', 'offer_number', 'delivery_region', 'delivery_from','delivery_to', 'quantity_from', 'quantity_to', 'init_char', 'offer_category', 'directory_category', 'product_type', 'number_characteristics', 'number_characteristics_supplier']\n",
    "columns_translator = {ru: eng for ru, eng in zip(columns_ru, columns_en)}"
   ]
  },
  {
   "cell_type": "code",
   "execution_count": 4,
   "id": "861bdc76-2ad3-440e-aa71-3b288c58ab75",
   "metadata": {
    "execution": {
     "iopub.execute_input": "2021-06-11T15:49:42.606350Z",
     "iopub.status.busy": "2021-06-11T15:49:42.605963Z",
     "iopub.status.idle": "2021-06-11T15:49:48.125199Z",
     "shell.execute_reply": "2021-06-11T15:49:48.124352Z",
     "shell.execute_reply.started": "2021-06-11T15:49:42.606291Z"
    },
    "tags": []
   },
   "outputs": [],
   "source": [
    "df = pd.read_csv(data_path, sep=',')"
   ]
  },
  {
   "cell_type": "code",
   "execution_count": 5,
   "id": "f4198be6-0af5-45bb-b2da-76fb019e71f1",
   "metadata": {
    "execution": {
     "iopub.execute_input": "2021-06-11T15:56:04.171219Z",
     "iopub.status.busy": "2021-06-11T15:56:04.170887Z",
     "iopub.status.idle": "2021-06-11T15:56:04.204081Z",
     "shell.execute_reply": "2021-06-11T15:56:04.201722Z",
     "shell.execute_reply.started": "2021-06-11T15:56:04.171182Z"
    },
    "tags": []
   },
   "outputs": [],
   "source": [
    "df = df.rename(columns=columns_translator)"
   ]
  },
  {
   "cell_type": "code",
   "execution_count": 18,
   "id": "3d9725d2-f60d-47ea-aad1-cbfe8fb682bb",
   "metadata": {
    "execution": {
     "iopub.execute_input": "2021-06-11T16:59:13.965064Z",
     "iopub.status.busy": "2021-06-11T16:59:13.964648Z",
     "iopub.status.idle": "2021-06-11T16:59:13.971843Z",
     "shell.execute_reply": "2021-06-11T16:59:13.969917Z",
     "shell.execute_reply.started": "2021-06-11T16:59:13.965022Z"
    },
    "tags": []
   },
   "outputs": [],
   "source": [
    "def sep_reason(reason: str):\n",
    "    if pd.notna(reason):\n",
    "        return reason.split(';')\n",
    "    return reason"
   ]
  },
  {
   "cell_type": "code",
   "execution_count": 76,
   "id": "62f3b940-3516-499b-b25e-6b028a8e5922",
   "metadata": {
    "execution": {
     "iopub.execute_input": "2021-06-12T04:06:08.921862Z",
     "iopub.status.busy": "2021-06-12T04:06:08.921487Z",
     "iopub.status.idle": "2021-06-12T04:06:09.106862Z",
     "shell.execute_reply": "2021-06-12T04:06:09.105857Z",
     "shell.execute_reply.started": "2021-06-12T04:06:08.921815Z"
    },
    "tags": []
   },
   "outputs": [],
   "source": [
    "reasons_df = df.reason.dropna().apply(sep_reason)\n",
    "\n",
    "reas = [item for sublist in reasons_df.to_list() for item in sublist]\n",
    "reas = pd.DataFrame(reas, columns=['reason'])\n",
    "\n",
    "reject_reasons = {rej: i for i, rej in  enumerate(reas.reason.value_counts().index.to_list())}"
   ]
  },
  {
   "cell_type": "code",
   "execution_count": 77,
   "id": "e03ae757-5310-4a52-a16c-800ac71598ea",
   "metadata": {
    "execution": {
     "iopub.execute_input": "2021-06-12T04:06:12.624672Z",
     "iopub.status.busy": "2021-06-12T04:06:12.624386Z",
     "iopub.status.idle": "2021-06-12T04:06:12.630786Z",
     "shell.execute_reply": "2021-06-12T04:06:12.629640Z",
     "shell.execute_reply.started": "2021-06-12T04:06:12.624643Z"
    },
    "tags": []
   },
   "outputs": [],
   "source": [
    "REASON_NUM = 55\n",
    "\n",
    "def get_reject_reason_vector_index(reason):\n",
    "    if isinstance(reason, list):\n",
    "        return [reject_reasons.get(reas, 0) for reas in reason]\n",
    "    return []\n",
    "    \n",
    "def get_reject_reason_vector(reason_index):\n",
    "    vec = np.zeros(REASON_NUM, dtype=int)\n",
    "    vec[reason_index] = 1\n",
    "    return vec\n",
    "            "
   ]
  },
  {
   "cell_type": "code",
   "execution_count": 78,
   "id": "9bc15357-dbb9-4eb8-b4fc-ad59f4fe3d7b",
   "metadata": {
    "execution": {
     "iopub.execute_input": "2021-06-12T04:06:12.978761Z",
     "iopub.status.busy": "2021-06-12T04:06:12.978507Z",
     "iopub.status.idle": "2021-06-12T04:06:14.064169Z",
     "shell.execute_reply": "2021-06-12T04:06:14.063105Z",
     "shell.execute_reply.started": "2021-06-12T04:06:12.978733Z"
    },
    "tags": []
   },
   "outputs": [
    {
     "data": {
      "text/plain": [
       "0         [0, 1, 0, 0, 0, 0, 0, 0, 0, 0, 0, 0, 0, 0, 0, ...\n",
       "1         [0, 1, 0, 0, 0, 1, 0, 0, 0, 1, 0, 0, 0, 0, 0, ...\n",
       "2         [0, 0, 0, 0, 0, 1, 0, 0, 0, 0, 0, 0, 0, 0, 1, ...\n",
       "3         [0, 0, 0, 0, 1, 0, 0, 0, 0, 0, 0, 0, 0, 0, 0, ...\n",
       "4         [0, 0, 0, 0, 0, 0, 0, 0, 0, 0, 0, 0, 0, 0, 0, ...\n",
       "                                ...                        \n",
       "199995    [0, 0, 0, 0, 0, 0, 0, 0, 0, 0, 0, 0, 0, 0, 0, ...\n",
       "199996    [0, 0, 0, 0, 0, 0, 0, 0, 0, 0, 0, 0, 0, 0, 0, ...\n",
       "199997    [0, 0, 0, 0, 0, 0, 0, 0, 0, 0, 0, 0, 0, 0, 0, ...\n",
       "199998    [0, 0, 0, 0, 0, 0, 0, 0, 0, 0, 0, 0, 0, 0, 0, ...\n",
       "199999    [0, 0, 0, 0, 0, 0, 0, 0, 0, 0, 0, 0, 0, 0, 0, ...\n",
       "Name: reason, Length: 200000, dtype: object"
      ]
     },
     "execution_count": 78,
     "metadata": {},
     "output_type": "execute_result"
    }
   ],
   "source": [
    "df.reason.apply(sep_reason).apply(get_reject_reason_vector_index).apply(get_reject_reason_vector)"
   ]
  },
  {
   "cell_type": "code",
   "execution_count": 73,
   "id": "27086a57-8f7f-44e6-8311-616a01e90262",
   "metadata": {
    "execution": {
     "iopub.execute_input": "2021-06-12T04:00:11.444963Z",
     "iopub.status.busy": "2021-06-12T04:00:11.444643Z",
     "iopub.status.idle": "2021-06-12T04:00:11.607085Z",
     "shell.execute_reply": "2021-06-12T04:00:11.606131Z",
     "shell.execute_reply.started": "2021-06-12T04:00:11.444928Z"
    },
    "tags": []
   },
   "outputs": [
    {
     "data": {
      "text/plain": [
       "1     48586\n",
       "2     18928\n",
       "3     13172\n",
       "4      7021\n",
       "5      3362\n",
       "6      1519\n",
       "7       639\n",
       "8       251\n",
       "9       114\n",
       "10       42\n",
       "11        8\n",
       "12        4\n",
       "13        1\n",
       "Name: reason, dtype: int64"
      ]
     },
     "execution_count": 73,
     "metadata": {},
     "output_type": "execute_result"
    }
   ],
   "source": [
    "df.reason.dropna().apply(sep_reason).apply(len).value_counts()"
   ]
  },
  {
   "cell_type": "code",
   "execution_count": 13,
   "id": "a9b60a44-9755-4dbf-9d04-61d5dcd97071",
   "metadata": {
    "execution": {
     "iopub.execute_input": "2021-06-11T15:12:33.172523Z",
     "iopub.status.busy": "2021-06-11T15:12:33.172379Z",
     "iopub.status.idle": "2021-06-11T15:12:53.431513Z",
     "shell.execute_reply": "2021-06-11T15:12:53.430978Z",
     "shell.execute_reply.started": "2021-06-11T15:12:33.172509Z"
    },
    "tags": []
   },
   "outputs": [
    {
     "data": {
      "application/vnd.jupyter.widget-view+json": {
       "model_id": "5a6627e22876438facf6944bcef78470",
       "version_major": 2,
       "version_minor": 0
      },
      "text/plain": [
       "                                             |          | [  0%]   00:00 -> (? left)"
      ]
     },
     "metadata": {},
     "output_type": "display_data"
    },
    {
     "name": "stdout",
     "output_type": "stream",
     "text": [
      "Report report.html was generated! NOTEBOOK/COLAB USERS: the web browser MAY not pop up, regardless, the report IS saved in your notebook/colab files.\n"
     ]
    }
   ],
   "source": [
    "my_report = sv.analyze(df)\n",
    "my_report.show_html('report.html')"
   ]
  },
  {
   "cell_type": "code",
   "execution_count": null,
   "id": "4297e93a-a264-4904-970e-41b92dfec14f",
   "metadata": {},
   "outputs": [],
   "source": []
  }
 ],
 "metadata": {
  "kernelspec": {
   "display_name": "Python [conda env:root] *",
   "language": "python",
   "name": "conda-root-py"
  },
  "language_info": {
   "codemirror_mode": {
    "name": "ipython",
    "version": 3
   },
   "file_extension": ".py",
   "mimetype": "text/x-python",
   "name": "python",
   "nbconvert_exporter": "python",
   "pygments_lexer": "ipython3",
   "version": "3.8.10"
  }
 },
 "nbformat": 4,
 "nbformat_minor": 5
}
